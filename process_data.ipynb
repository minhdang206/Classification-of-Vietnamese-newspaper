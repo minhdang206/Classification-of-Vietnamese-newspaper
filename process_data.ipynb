{
 "cells": [
  {
   "attachments": {},
   "cell_type": "markdown",
   "metadata": {},
   "source": [
    "### CÁC THƯ VIỆN CẦN THIẾT"
   ]
  },
  {
   "cell_type": "code",
   "execution_count": 17,
   "metadata": {},
   "outputs": [],
   "source": [
    "import requests\n",
    "import re\n",
    "import os\n",
    "import csv\n",
    "from underthesea import word_tokenize\n",
    "import pandas as pd\n",
    "from bs4 import BeautifulSoup\n",
    "from IPython.display import clear_output\n",
    "\n",
    "import pyodbc"
   ]
  },
  {
   "attachments": {},
   "cell_type": "markdown",
   "metadata": {},
   "source": [
    "### KẾT NỐI VÀ TẠO BẢNG DỮ LIỆU VÀO DATABASE DB_NEWS ĐÃ TẠO TRÊN SQL SERVER"
   ]
  },
  {
   "cell_type": "code",
   "execution_count": 19,
   "metadata": {},
   "outputs": [],
   "source": [
    "### CONNECT TO CLOUD SQL SERVER USING PYODBC\n",
    "SERVER = 'mssql-125320-0.cloudclusters.net'\n",
    "PORT = 19147  # your port\n",
    "UID = 'dang'\n",
    "PASSWORD = 'Tranminhdang206'\n",
    "DATABASE = 'db_news'\n",
    "\n",
    "db_connect = pyodbc.connect(\n",
    "  'DRIVER={ODBC Driver 17 for SQL Server};'\n",
    "  'SERVER=%s,%s;'\n",
    "  'DATABASE=%s;'\n",
    "  'UID=%s;'\n",
    "  'PWD=%s' % (SERVER, PORT, DATABASE, UID, PASSWORD))\n",
    "\n",
    "### CREATE TABLE NEWS AND LABELS \n",
    "sql_scripts = \"\"\"\n",
    "CREATE TABLE labels (\n",
    "    label_id CHAR(2) PRIMARY KEY,\n",
    "    label NVARCHAR(MAX)\n",
    "    );\n",
    "\n",
    "CREATE TABLE news (\n",
    "    new_id CHAR(7) PRIMARY KEY,\n",
    "    url VARCHAR(MAX) NULL,\n",
    "    label_id CHAR(2) REFERENCES labels(label_id),\n",
    "    title NVARCHAR(MAX) NULL,\n",
    "    content NVARCHAR(MAX) NULL\n",
    ");\n",
    "\"\"\"\n",
    "cursor = db_connect.cursor()\n",
    "cursor.execute(sql_scripts)\n",
    "cursor.commit()\n",
    "\n",
    "### IMPORT DATA VÀO BẢNG LABELS\n",
    "sql_scripts = \"\"\"\n",
    "INSERT INTO labels (label_id, label)\n",
    "VALUES\n",
    "    ('01', N'Đời Sống'),\n",
    "    ('02', N'Du Lịch'),\n",
    "    ('03', N'Giải Trí'),\n",
    "    ('04', N'Giáo Dục'),\n",
    "    ('05', N'Khoa Học'),\n",
    "    ('06', N'Kinh Doanh'),\n",
    "    ('07', N'Pháp Luật'),\n",
    "    ('08', N'Sức Khỏe'),\n",
    "    ('09', N'Thể Thao');\n",
    "\"\"\"\n",
    "cursor = db_connect.cursor()\n",
    "cursor.execute(sql_scripts)\n",
    "cursor.commit()"
   ]
  },
  {
   "cell_type": "code",
   "execution_count": 23,
   "metadata": {},
   "outputs": [
    {
     "data": {
      "text/html": [
       "<div>\n",
       "<style scoped>\n",
       "    .dataframe tbody tr th:only-of-type {\n",
       "        vertical-align: middle;\n",
       "    }\n",
       "\n",
       "    .dataframe tbody tr th {\n",
       "        vertical-align: top;\n",
       "    }\n",
       "\n",
       "    .dataframe thead th {\n",
       "        text-align: right;\n",
       "    }\n",
       "</style>\n",
       "<table border=\"1\" class=\"dataframe\">\n",
       "  <thead>\n",
       "    <tr style=\"text-align: right;\">\n",
       "      <th></th>\n",
       "      <th>label_id</th>\n",
       "      <th>label</th>\n",
       "    </tr>\n",
       "  </thead>\n",
       "  <tbody>\n",
       "    <tr>\n",
       "      <th>0</th>\n",
       "      <td>01</td>\n",
       "      <td>Đời Sống</td>\n",
       "    </tr>\n",
       "    <tr>\n",
       "      <th>1</th>\n",
       "      <td>02</td>\n",
       "      <td>Du Lịch</td>\n",
       "    </tr>\n",
       "    <tr>\n",
       "      <th>2</th>\n",
       "      <td>03</td>\n",
       "      <td>Giải Trí</td>\n",
       "    </tr>\n",
       "    <tr>\n",
       "      <th>3</th>\n",
       "      <td>04</td>\n",
       "      <td>Giáo Dục</td>\n",
       "    </tr>\n",
       "    <tr>\n",
       "      <th>4</th>\n",
       "      <td>05</td>\n",
       "      <td>Khoa Học</td>\n",
       "    </tr>\n",
       "    <tr>\n",
       "      <th>5</th>\n",
       "      <td>06</td>\n",
       "      <td>Kinh Doanh</td>\n",
       "    </tr>\n",
       "    <tr>\n",
       "      <th>6</th>\n",
       "      <td>07</td>\n",
       "      <td>Pháp Luật</td>\n",
       "    </tr>\n",
       "    <tr>\n",
       "      <th>7</th>\n",
       "      <td>08</td>\n",
       "      <td>Sức Khỏe</td>\n",
       "    </tr>\n",
       "    <tr>\n",
       "      <th>8</th>\n",
       "      <td>09</td>\n",
       "      <td>Thể Thao</td>\n",
       "    </tr>\n",
       "  </tbody>\n",
       "</table>\n",
       "</div>"
      ],
      "text/plain": [
       "  label_id       label\n",
       "0       01    Đời Sống\n",
       "1       02     Du Lịch\n",
       "2       03    Giải Trí\n",
       "3       04    Giáo Dục\n",
       "4       05    Khoa Học\n",
       "5       06  Kinh Doanh\n",
       "6       07   Pháp Luật\n",
       "7       08    Sức Khỏe\n",
       "8       09    Thể Thao"
      ]
     },
     "execution_count": 23,
     "metadata": {},
     "output_type": "execute_result"
    }
   ],
   "source": [
    "### GET DATA TABLE LABELS\n",
    "sql_scripts = \"\"\"\n",
    "select * from labels\n",
    "\"\"\"\n",
    "cursor = db_connect.cursor()\n",
    "cursor.execute(sql_scripts)\n",
    "data_label = cursor.fetchall()\n",
    "df_label = pd.DataFrame.from_records(data_label, columns=[column[0] for column in cursor.description])\n",
    "labels_map = {x['label']:x['label_id'] for x in df_label.to_dict('records')}\n",
    "df_label"
   ]
  },
  {
   "attachments": {},
   "cell_type": "markdown",
   "metadata": {},
   "source": [
    "### TRÍCH XUẤT DỮ LIỆU TỪ CÁC FILE HTML ĐÃ CÀO VÀ IMPORT VÀO BẢNG NEWS VỪA TẠO"
   ]
  },
  {
   "cell_type": "code",
   "execution_count": 20,
   "metadata": {},
   "outputs": [],
   "source": [
    "folders_data_html = os.listdir('data_html')\n",
    "path_data_html = 'data_html'\n",
    "\n",
    "table_name = 'news'\n",
    "with open('data_news_raw.csv', mode='w') as csv_file:\n",
    "\tnew_id = 0\n",
    "\tfor i, folder_label in enumerate(folders_data_html):\n",
    "\t\tif not folder_label.endswith('.ini'):\n",
    "\t\t\tpath_cur_folder = os.path.join(path_data_html, folder_label)\n",
    "\t\t\tlist_files_html = os.listdir(path_cur_folder)\n",
    "\t\t\tfieldnames = ['new_id','url','label_id','title', 'content']\n",
    "\t\t\twriter = csv.DictWriter(csv_file, fieldnames=fieldnames)\n",
    "\t\t\t# Ghi header của file CSV\n",
    "\t\t\twriter.writeheader()\n",
    "\t\t\t# Lặp qua tất cả các tệp tin trong thư mục và các thư mục con\n",
    "\t\t\tfor idx, file_name in enumerate(list_files_html):\n",
    "\t\t\t\tprint(f\"File {idx +1}/{len(list_files_html)} of label [{folder_label}] - ({i + 1}/{len(folders_data_html)})\")\n",
    "\t\t\t\t# Kiểm tra xem tệp tin có phải là tệp tin HTML hay không\n",
    "\t\t\t\tif file_name.endswith('.html'):\n",
    "\t\t\t\t\t# Mở tệp tin và đọc nội dung\n",
    "\t\t\t\t\tnew_id += 1\n",
    "\t\t\t\t\tstr_new_id = str(new_id).zfill(7)\n",
    "\t\t\t\t\twith open(os.path.join(path_cur_folder, file_name), 'r') as file:\n",
    "\t\t\t\t\t\tcontent = file.read()\n",
    "\t\t\t\t\t\tcontent_html = BeautifulSoup(content, 'html.parser')\n",
    "\t\t\t\t\t\t# Lấy url của bài báo\n",
    "\t\t\t\t\t\turl_new = content_html.select_one('[property=\"og:url\"]').attrs['content']\n",
    "\t\t\t\t\t\t# Lấy title của văn bản\n",
    "\t\t\t\t\t\ttitle_detail = content_html.select_one('h1.title-detail')\n",
    "\t\t\t\t\t\tif title_detail:\n",
    "\t\t\t\t\t\t\ttitle = title_detail.text\n",
    "\t\t\t\t\t\t# Lấy title của video\n",
    "\t\t\t\t\t\ttitle_video = content_html.select_one('h1.title')\n",
    "\t\t\t\t\t\tif title_video:\n",
    "\t\t\t\t\t\t\ttitle = title_video.text\n",
    "\t\t\t\t\t\tsummary =\" \"\n",
    "\t\t\t\t\t\tfor p in content_html.find_all('p', {'class': 'Normal'}):\n",
    "\t\t\t\t\t\t\tsummary += p.text.strip() + ' '\n",
    "\t\t\t\t\t\t# Ghi thông tin vào file CSV\n",
    "\t\t\t\t\t\twriter.writerow({'new_id':str_new_id,'url':url_new,'label_id':labels_map[folder_label],'title':title, 'content':summary})\n",
    "\t\t\t\t\t\t# Ghi thông tin vào bảng news\n",
    "\t\t\t\t\t\tcursor = db_connect.cursor()\n",
    "\t\t\t\t\t\trow_to_insert  = tuple([str_new_id,url_new,labels_map[folder_label],title,summary])\n",
    "\t\t\t\t\t\tquery = f\"INSERT INTO {table_name} VALUES ({','.join('?' * len(row_to_insert))})\"\n",
    "\t\t\t\t\t\tcursor.execute(query, row_to_insert)\n",
    "\t\t\t\t\t\tcursor.commit()\n",
    "\t\t\t\t\t\tprint(f\"Imported {row_to_insert}\")\n",
    "\t\t\t\t\t\tcursor.close()\n",
    "\t\t\t\tclear_output()"
   ]
  },
  {
   "cell_type": "code",
   "execution_count": 27,
   "metadata": {},
   "outputs": [
    {
     "name": "stdout",
     "output_type": "stream",
     "text": [
      "Bảng news có số dòng là 5570\n"
     ]
    }
   ],
   "source": [
    "sql_scripts = \"\"\"\n",
    "select count(*) from news\n",
    "\"\"\"\n",
    "cursor = db_connect.cursor()\n",
    "cursor.execute(sql_scripts)\n",
    "print(f\"Bảng news có số dòng là {cursor.fetchall()[0][0]}\")"
   ]
  },
  {
   "cell_type": "code",
   "execution_count": 28,
   "metadata": {},
   "outputs": [
    {
     "name": "stdout",
     "output_type": "stream",
     "text": [
      "10 dòng đầu\n"
     ]
    },
    {
     "data": {
      "text/plain": [
       "[('0000001', 'https://vnexpress.net/samsung-xac-dinh-viet-nam-la-cu-diem-san-xuat-toan-cau-4593216.html', '06', \"Samsung xác định Việt Nam là 'cứ điểm sản xuất toàn cầu' \", ' Nhận định này được ông Park Hark Kyu, Tổng giám đốc phụ trách tài chính của Tập đoàn Samsung, nêu khi gặp Thủ tướng Phạm Minh Chính chiều nay. Ông Park đánh giá cao môi trường đầu tư, kinh doanh và xác định Việt Nam là cứ điểm sản xuất toàn cầu. Hãng cũng hướng tới mục tiêu đưa Việt Nam thành \"trung tâm của các trung tâm\" nghiên cứu, phát triển. Cuối năm ngoái, Trung tâm R&D của Samsung tại Hà Nội đã vận hành, đưa ra giải pháp đào tạo nhân lực để có nhiều hơn nữa người Việt tham gia đội ngũ lãnh đạo của hãng ở Việt Nam. Hiện có hơn 2.000 kỹ sư đang làm việc tại trung tâm này, góp phần phát triển công nghiệp, nâng cao tỷ lệ nội địa hóa, chuỗi cung ứng sản xuất. Số nhà cung cấp cấp 1 và 2 của Việt Nam trong chuỗi cung ứng toàn cầu của Samsung đã tăng 10 lần, từ 25 doanh nghiệp vào 2014 lên 257 vào cuối năm 2022. Ngoài ra, ông Park Hark Kyu đề xuất với Thủ tướng một số nội dung về khuyến khích sử dụng các sản phẩm \"made in Vietnam\", các vấn đề liên quan tới thuế tối thiểu toàn cầu. Thủ tướng Phạm Minh Chính đánh giá cao hoạt động kinh doanh của Samsung tại Việt Nam, góp phần chuyển đổi cơ cấu kinh tế, thúc đẩy xuất khẩu và tăng trưởng, phát triển công nghệ hỗ trợ và tạo việc làm cho hàng triệu lao động. Thủ tướng cho biết, Chính phủ Việt Nam đã lập tổ công tác đặc biệt phân tích, đánh giá kỹ tác động để có giải pháp phù hợp và tạo điều kiện đầu tư cạnh tranh cho các nhà đầu tư nước ngoài, trong đó có Samsung, trên cơ sở \"lợi ích hài hòa, rủi ro chia sẻ\". Năm 2022, lợi nhuận của các nhà máy của Samsung tại Việt Nam khoảng 4,6 tỷ USD, góp 30% vào tổng doanh thu của tập đoàn mẹ. Samsung đã đầu tư 18 tỷ USD vào Việt Nam và đang có kế hoạch nâng lên thành 20 tỷ USD. '),\n",
       " ('0000002', 'https://vnexpress.net/ngan-hang-quan-doi-co-chu-tich-moi-4593119.html', '06', 'Ngân hàng Quân đội có chủ tịch mới ', ' Quyết định thay đổi nhân sự cấp cao vừa được Ngân hàng Quân Đội (MB) công bố. Đồng thời, Hội đồng quản trị MB cũng thông qua việc giảm số thành viên Hội đồng quản trị nhiệm kỳ 2019-2024 từ 11 người xuống 10 người. Thượng tướng Lê Hữu Đức, Chủ tịch Hội đồng quản trị MB được đánh giá là \"một tổng công trình sư\" của ngân hàng này. Ông đã dẫn dắt MB trong 12 năm, trải qua ba giai đoạn chiến lược và để lại dấu ấn đậm nét trong việc định hướng chiến lược, xây dựng nền tảng quản trị và điều hành. Ông Lưu Trung Thái, sinh năm 1975, tốt nghiệp Thạc sỹ quản trị Kinh doanh – Đại học Hawaii (Mỹ). Ông đã có 26 năm gắn bó với MB, MBS và nhiều năm liền nắm giữ các vị trí quan trọng như giám đốc chi nhánh, Giám đốc nhân sự, Phó tổng giám đốc. Ông Thái bắt đầu tham gia Hội đồng quản trị MB từ tháng 4/2013 và trở thành Phó chủ tịch Hội đồng quản trị ngân hàng từ tháng 9/2013. Giai đoạn 2013-2017, ông tham gia tái cấu trúc các công ty thành viên, góp phần xây dựng hệ sinh thái MB thành tập đoàn tài chính đa năng. Đầu năm 2017, ông bắt đầu giữ vị trí CEO của nhà băng này. Sau khi được bổ nhiệm vào vị trí Chủ tịch Hội đồng quản trị MB, ông Thái sẽ không đảm nhận chức danh CEO ngân hàng. Thay vào đó, ông Phạm Như Ánh, Phó tổng giám đốc, được giao phụ trách Ban điều hành, đảm nhận quyền hạn và nhiệm vụ như Tổng giám đốc. Ông Phạm Như Ánh sinh năm 1980, thuộc lớp lãnh đạo trẻ của MB, với gần 20 năm kinh nghiệm trong ngành tài chính, ngân hàng. Tại MB, ông Ánh đã đảm nhiệm nhiều vị trí từ Giám đốc chi nhánh, Giám đốc khối, phụ trách kinh doanh khu vực phía Nam đến thành viên Ban điều hành. Các quyết định thay đổi nhân sự sẽ được Hội đồng quản trị MB trình cổ đông thông qua tại phiên họp thường niên sắp tới. Năm 2022, MB là nhà băng cổ phần nằm trong nhóm dẫn đầu về lợi nhuận. Lợi nhuận trước thuế của ngân hàng này đạt hơn 22.700 tỷ đồng, tăng hơn 37% cùng kỳ và chỉ đứng sau Vietcombank, Techcombank và BIDV. Nhà băng này ghi nhận trên 20 triệu khách hàng, trong đó chỉ riêng trong năm 2022, MB thu hút thêm 7 triệu khách hàng. Số lượng giao dịch trên kênh số tăng vọt về quy mô với 1,8 tỷ giao dịch, gấp 2 lần năm 2021. Minh Sơn '),\n",
       " ('0000003', 'https://vnexpress.net/casper-lan-dau-tan-cong-thi-truong-dien-tu-dien-lanh-cao-cap-4592672.html', '06', 'Casper lần đầu tấn công thị trường điện tử, điện lạnh cao cấp ', ' Thương hiệu nhánh cao cấp mới LaCasper được Casper Việt Nam ra mắt với 2 sản phẩm đầu tiên là điều hoà và TV, hướng đến nhóm người dùng cao cấp. Sản phẩm được trưng bày mẫu tại sự kiện công bố chiến lược 2023 và gặp gỡ các đại lý toàn quốc diễn ra tối 11/4. Điều hoà mang thương hiệu LaCasper có thiết kế lấy cảm hứng từ thiên nhiên, công nghệ cấp khí tươi lần đầu tiên được hãng thương mại hoá trên điều hoà dân dụng với giá bán từ 15,99 triệu đồng. Bên cạnh đó, LaCasper TV Oled có độ mỏng dưới 0,5 cm, hơn 8 triệu điểm ảnh tự phát sáng, tích hợp công nghệ hỗ trợ điều khiển giọng nói, giá bán hơn 30 triệu đồng cho phiên bản 55 inch. Giới chuyên gia đánh giá đây là nước đi táo bạo của Casper bởi từ trước đến nay, thương hiệu này luôn nổi tiếng với tiêu chí tiết kiệm, hướng đến những người dùng phổ thông, tiêu biểu là dòng điều hoà tiêu thụ điện năng từ 4.000 đồng một đêm. Lý giải việc mở rộng thị phần sang phân khúc cao cấp, đại diện Casper Việt Nam cho biết, đây là chiến lược được hãng ấp ủ nhiều năm trước, kỳ vọng mang đến cho người dùng sản phẩm điện máy nhiều công nghệ, thiết kế sang trọng, phù hợp nội thất gia đình hiện đại. Về mặt doanh số trong phân khúc này, hãng không đặt mục tiêu cao. Sản phẩm điều hòa phân khúc phổ thông vẫn sẽ là chủ lực, giúp hãng duy trì thị phần thứ 3 Việt Nam trong 3 năm qua. \"Casper Việt Nam phát triển dòng sản phẩm cao cấp không phải vì mục tiêu doanh thu, mà để chứng minh, củng cố vị thế trên thị trường, giới thiệu thế mạnh công nghệ đột phá bên cạnh cam kết cung cấp những sản phẩm chất lượng, giá cạnh tranh phục vụ mọi nhu cầu của người tiêu dùng Việt\", đại diện hãng cho biết. Ngoài ưu điểm về sản phẩm, thương hiệu nhánh cao cấp LaCasper sở hữu loạt dịch vụ đặc quyền cho phân khúc cao cấp, phục vụ lớp khách cao cấp, gồm: đường dây nóng VIP Careline, miễn phí lắp đặt, hỗ trợ yêu cầu dịch vụ trong 2 tiếng, bảo dưỡng miễn phí 6 tháng/ lần trong 2 năm đầu từ ngày mua hàng, cung cấp sản phẩm sử dụng thay thế trong thời gian chờ bảo hành... Hiện, dòng LaCasper TV OLED đã đến tay người dùng, điều hoà khí tươi LaCasper bán ra từ cuối tháng 4. Tủ lạnh và máy giặt LaCasper dự kiến bán ra vào quý IV năm nay. Cũng tại sự kiện này, đại diện Casper Việt Nam đưa định hướng mục tiêu năm 2023 tiếp tục tăng trưởng thị phần, mở rộng nhóm khách hàng sử dụng sản phẩm. Trong năm ngoái, doanh thu của hãng này đạt mức 5.600 tỷ đồng, tăng 19% so với 2021, chưa bao gồm VAT. Thị phần mảng điều hoà chiếm 16%, đứng thứ 3 toàn thị trường. Riêng mảng điều hoà tiêu chuẩn, Casper Việt Nam giữ vị trí số 1 trong nước, thị phần 35%, theo công bố từ hãng. \"Trong bối cảnh kinh tế suy giảm, ban lãnh đạo Casper Việt Nam chủ động hy sinh lợi nhuận để tăng cường thị phần, giữ ổn định kênh, phục vụ khách hàng tốt hơn\", đại diện công ty nói. \"Xét ở góc độ rộng hơn trong ngành, Casper Việt Nam là một trong số ít hãng tăng trưởng dương về thị phần và doanh thu, trong bối cảnh suy giảm chung của ngành\". Ngoài việc ra mắt phân nhánh cao cấp LaCasper, hãng điện máy Thái Lan tiếp tục định hướng phát triển dòng sản phẩm điều hoà cho nhóm khách phổ thông, ra mắt dòng Eco City Inverter tiết kiệm điện cho không gian linh hoạt, chi phí từ 5,99 triệu đồng. Dòng điều hoà này có công suất 9.000 BTU, nhãn năng lượng 5 sao, sở hữu tính năng i-Saving, làm lạnh nhanh sau 30 giây, vận hành tĩnh lặng, theo công bố từ hãng. Ngoài ra, tính năng cảm biến nhiệt thông minh iFeel hoạt động với cơ chế cảm ứng nhiệt độ xung quanh cơ thể người dùng, giúp điều khiển nhiệt độ phòng chính xác hơn, không chênh lệch với nhiệt độ cài đặt. Dòng Eco City có dải điện áp rộng 130-254 V, phù hợp khu vực có lưới điện chưa ổn định, theo công bố từ hãng. Quang Anh '),\n",
       " ('0000004', 'https://vnexpress.net/uy-ban-kinh-te-ban-bat-dong-san-qua-san-lam-tang-chi-phi-doi-gia-4592298.html', '06', 'Uỷ ban Kinh tế: Bán bất động sản qua sàn làm tăng chi phí, đội giá ', ' Ngày 12/4, Uỷ ban Thường vụ Quốc hội họp phiên chuyên đề pháp luật, cho ý kiến dự thảo Luật Kinh doanh bất động sản (sửa đổi). Theo tờ trình trước đó, Chính phủ đề xuất áp dụng trở lại điều kiện bán bất động sản hình thành trong tương lai (bất động sản trên giấy) bắt buộc phải qua sàn giao dịch. Cụ thể, theo Điều 57, hai loại giao dịch bất động sản phải thông qua sàn, gồm chủ đầu tư bán, cho thuê mua nhà ở hoặc công trình hình thành trong tương lai và chuyển nhượng, cho thuê, cho thuê lại đất đã có hạ tầng kỹ thuật. Còn các giao dịch khác được khuyến khích thông qua sàn. Tại báo cáo thẩm tra của Uỷ ban Kinh tế ngày 11/4, ông Vũ Hồng Thanh, Chủ nhiệm Uỷ ban Kinh tế cho rằng quy định tại dự thảo luật chưa làm rõ an toàn pháp lý của giao dịch bất động sản qua sàn; chưa rõ trách nhiệm của sàn giao dịch khi chủ đầu tư xảy ra tranh chấp, hay không thực hiện đúng cam kết. Chẳng hạn, quy định \"giấy xác nhận giao dịch qua sàn\" tại khoản 5 Điều 61 còn chung chung, chưa rõ giá trị pháp lý. Hay giấy xác nhận giao dịch qua sàn là \"cơ sở để các chủ thể tham gia giao dịch kê khai nộp thuế cho Nhà nước, đăng ký biến động, sang tên quyền sở hữu tài sản, quyền sử dụng đất\" chưa thống nhất với Luật Đất đai, các luật về thuế, không có giá trị pháp lý làm căn cứ tính thuế. Chưa kể, việc buộc giao dịch qua sàn, theo Uỷ ban Kinh tế sẽ làm tăng trung gian, chi phí và được tính vào giá giao dịch. Một số ý kiến phản ánh việc giao dịch qua sàn có thể làm tăng chi phí từ 8-10%. Bên cạnh đó, sàn giao dịch bất động sản không phải là công cụ quản lý nhà nước, không thực hiện các dịch vụ công, mà chỉ đóng vai trò là môi giới, trung gian, cung cấp thông tin. Ông Thanh nêu thực tế có hiện tượng các sàn câu kết với nhau vì mục đích lợi nhuận làm nhiễu loạn thị trường, không phản ánh đúng quan hệ cung cầu, giá cả. Do đó, việc bắt buộc giao dịch bất động sản qua sàn tiềm ẩn nguy cơ lợi dụng để độc quyền, câu kết, gây ảnh hưởng đến minh bạch thị trường và quyền lợi các bên trong kinh doanh bất động sản. \"Sàn chỉ là một trong các phương thức để giao dịch, nên cho phép các bên tham gia được quyền chọn giao dịch qua sàn hoặc không qua sàn\", báo cáo thẩm tra của Uỷ ban Kinh tế nêu. Theo cơ quan thẩm tra, với những dự án bất động sản có đầy đủ cơ sở pháp lý, chủ đầu tư có đủ năng lực, uy tín, việc giao dịch trực tiếp, không thông qua sàn giao dịch bất động sản vẫn diễn ra thuận lợi, ít rủi ro. Cũng theo ông Thanh, thường trực Uỷ ban Kinh tế đề nghị bổ sung quy định các loại hợp đồng giữa 3 bên (người mua - chủ đầu tư - sàn giao dịch bất động sản) với giao dịch bất động sản qua sàn. Nội dung hợp đồng này phải thể hiện điều khoản ràng buộc trách nhiệm của chủ đầu tư và sàn giao dịch, nhằm đảm bảo quyền lợi cho người mua. Chính phủ cũng cần đánh giá tác động cụ thể hơn quy định về yêu cầu thanh toán hợp đồng kinh doanh bất động sản qua tài khoản mở tại ngân hàng, bổ sung chế tài xử lý vi phạm để đảm bảo chặt chẽ, hiệu quả. Tại dự thảo luật, lần đầu Chính phủ đưa ra một chương riêng về điều tiết thị trường bất động sản, để ứng phó khi thị trường sốt nóng hoặc đóng băng. Ông Vũ Hồng Thanh cho hay có hai loại ý kiến của cơ quan thẩm tra về vấn đề này. Thứ nhất là đề nghị cân nhắc không quy định một chương riêng về điều tiết thị trường bất động sản. Thay vào đó, cơ quan soạn thảo nên hoàn thiện theo hướng khi thị trường biến động ảnh hưởng tới kinh tế vĩ mô, Bộ Xây dựng cùng các cơ quan, địa phương quyết định, hoặc trình cấp có thẩm quyền biện pháp điều tiết, bình ổn. Thường trực Ủy ban Kinh tế tán thành với ý kiến này. Loại ý kiến thứ hai đồng ý với dự thảo luật, nhưng các quy định cần rõ ràng hơn để đảm bảo Nhà nước chỉ can thiệp khi biến động của thị trường ảnh hưởng lớn đến các mục tiêu phát triển kinh tế vĩ mô. Về đặt cọc giao dịch nhà ở, dự án nhà hình thành trong tương lai, dự thảo luật nêu chủ đầu tư chỉ được nhận tiền cọc từ khách hàng khi \"nhà ở, công trình xây dựng đủ điều kiện đưa vào kinh doanh\" và \"đã thực hiện giao dịch theo đúng quy định\". Chủ nhiệm Uỷ ban Kinh tế Vũ Hồng Thanh cho hay, có ý kiến cho rằng không cần quy định riêng điều kiện đặt cọc, mà thực hiện theo Bộ luật Dân sự. Cũng có người đề nghị dự thảo luật cần nêu rõ tỷ lệ đặt cọc tối đa để bảo vệ quyền lợi bên mua. Về bảo lãnh bán, cho thuê nhà ở hình thành trong tương lai, theo Điều 27 chủ đầu tư phải được ngân hàng chấp thuận cấp bảo lãnh nghĩa vụ tài chính với bên mua, thuê mua nhà khi chủ đầu tư không bàn giao nhà ở theo đúng tiến độ đã cam kết trong hợp đồng. Đây cũng là điều kiện áp dụng từ năm 2014 đến nay. Một số ý kiến tại Uỷ ban Kinh tế cho rằng nên cân nhắc việc tiếp tục áp dụng điều kiện bảo lãnh này. Bởi thực tế gần 10 năm qua, bảo lãnh được tính vào hạn mức tín dụng nên các ngân hàng không đủ hạn mức để cấp cho tất cả dự án. Ngân hàng cũng không kiểm soát được rủi ro do chủ đầu tư thực hiện cùng lúc nhiều dự án. Mặt khác, chi phí bảo lãnh ngân hàng được tính vào giá bán, cho thuê mua nên nhiều khách hàng từ chối quyền được cấp bảo lãnh để nhận chiết khấu trực tiếp. Các ngân hàng chưa kiểm tra, giám sát chủ đầu tư được bảo lãnh. Tuy vậy, thường trực Ủy ban Kinh tế nhìn nhận vẫn cần quy định bảo lãnh này để bảo vệ bên mua, thuê mua - các đối tượng yếu thế trong quan hệ hợp đồng với chủ đầu tư. Tuy nhiên, Chính phủ cần làm rõ mục đích, nội hàm, phạm vi của bảo lãnh, để ràng buộc trách nhiệm các bên (bảo lãnh, được bảo lãnh và nhận bảo lãnh). Dự kiến dự thảo Luật Kinh doanh bất động sản (sửa đổi) sẽ được trình Quốc hội thảo luận, cho ý kiến tại kỳ họp vào tháng 5 tới. '),\n",
       " ('0000005', 'https://vnexpress.net/chuoi-pizza-4ps-lai-vuot-giai-doan-truoc-dich-4592069.html', '06', 'Chuỗi Pizza 4Ps lãi vượt giai đoạn trước dịch ', ' Thông tin này vừa được Công ty cổ phần Pizza 4Ps công bố trên Sở giao dịch chứng khoán Hà Nội (HNX). Năm 2022, chuỗi nhà hàng này ghi nhận lợi nhuận sau thuế hơn 83,5 tỷ đồng, tăng đột biến so với mức lỗ gần 38 tỷ đồng năm 2021. Kết quả trong năm gần nhất này cũng vượt qua giai đoạn trước Covid-19, khi năm 2018 và 2019 chuỗi này chỉ báo lãi trên 50 tỷ đồng. Tỷ suất lợi nhuận trên vốn chủ sở hữu của Pizza 4Ps đạt 55%. Vốn chủ sở hữu của công ty tăng lên hơn 150 tỷ đồng vào cuối năm ngoái, giúp hệ số nợ phải trả trên vốn chủ sở hữu giảm từ mức 1,99 lần xuống 1,51 lần. Pizza 4Ps được sáng lập tại Việt Nam bởi hai vợ chồng người Nhật Yosuke Masuko và Sanae Takasugi. Chọn pizza làm sản phẩm chính nhưng Pizza 4Ps tự định vị mình là một chuỗi nhà hàng thay vì một cửa hàng thức ăn nhanh. Chuỗi này từng được Mekong Capital và Seedcom rót vốn. Hiện Pizza 4Ps có 32 nhà hàng ở TP HCM, Hà Nội, Đà Nẵng, Hải Phòng, Bình Dương, Nha Trang và Phnom Penh (Campuchia). Trong đó, TP HCM có hệ thống lớn nhất với 14 nhà hàng, tiếp theo là Hà Nội với 10 nhà hàng. Riêng tại Campuchia, chuỗi này có hai nhà hàng tại Phnom Penh. Ngoài mô hình chuỗi, Pizza 4Ps còn hoạt động trong lĩnh vực sản xuất – kinh doanh phô mai và bán lẻ sản phẩm từ bơ sữa. Công ty cung cấp các sản phẩm này cho khoảng 300 cửa hàng( chủ yếu là khách sạn năm sao, nhà hàng cao cấp) và bán trực tiếp, trực tuyến trong hệ thống nhà hàng Pizza 4Ps. Đà tăng trưởng cao của các chuỗi nhà hàng cũng là bức tranh chung khi hoạt động tiêu dùng trở lại sau hai năm bị ảnh hưởng bởi đại dịch Covid-19. Tương tự Pizza 4Ps, Golden Gate - đơn vị vận hành Kichi Kichi, Gogi House, Manwah, Kpub cũng thoát lỗ và đạt lợi nhuận kỷ lục gần 660 tỷ đồng trong năm ngoái. Báo cáo của iPOS - nền tảng cung cấp giải pháp bán hàng cho hơn 100.000 thương hiệu nhà hàng và quán cà phê, dẫn số liệu Euromonitor cho biết quy mô doanh thu toàn ngành đạt gần 610.000 tỷ đồng trong năm 2022, tăng 39%. Tuy nhiên đà phục hồi bị chững lại trong quý cuối năm ngoái do ảnh hưởng chung của nền kinh tế và dự kiến còn tiếp diễn trong năm nay. Minh Sơn '),\n",
       " ('0000006', 'https://vnexpress.net/cac-gia-dinh-giau-nhat-hong-kong-thiet-hai-vi-bat-dong-san-4592222.html', '06', 'Các gia đình giàu nhất Hong Kong thiệt hại vì bất động sản ', ' 4 công ty này thuộc sở hữu của 4 gia đình giàu nhất Hong Kong (Trung Quốc): CK Asset của nhà Li, Sun Hung Kai Properties của nhà Kwok, Henderson Land của nhà Lee và New World Development của nhà Cheng. Tính từ tháng 4/2019, cổ phiếu niêm yết trên sàn Hong Kong của các công ty này giảm khoảng 35%. Tổng vốn hóa giảm từ 132 tỷ USD xuống 86 tỷ USD. Trong đó, New World và Henderson giảm mạnh nhất, với lần lượt 62% và 40%. \"Đây chắc chắn là thời kỳ khó khăn hơn cả, nếu so với quá khứ\", John Burns – Giáo sư quản trị công tại Đại học Hong Kong cho biết. Ngoài việc giá bất động sản giảm và cuộc biểu tình chống dự luật dẫn độ năm 2019 khiến kinh tế Hong Kong đi xuống, Bắc Kinh hiện còn \"siết kiểm soát các tài phiệt\". Vài thập kỷ qua, giá bất động sản tăng đã giúp các gia đình giàu nhất Hong Kong mở rộng việc kinh doanh sang bán lẻ, cơ sở hạ tầng và viễn thông. Nhưng năm qua, doanh số bán nhà đã giảm 40%. Giá nhà cũng giảm 15%. Lợi nhuận Sun Hung Kai và New World Development xuống lần lượt 36% và 14% nửa cuối năm ngoái. Lợi nhuận Henderson Land mất 29% năm ngoái. CK Asset – công ty sáng lập bởi người giàu nhất Hong Kong Li Ka-shing – ghi nhận lợi nhuận tăng năm ngoái, bất chấp doanh thu từ bán nhà tại cả Hong Kong và Trung Quốc đại lục đi xuống. Nguyên nhân là bán bớt tài sản và mảng nhà hàng tại Anh có lợi nhuận. Các hãng này còn chịu ảnh hưởng từ chính sách Zero Covid của Trung Quốc. Năm ngoái, họ đạt tổng doanh thu 4,8 tỷ USD – giảm 40% so với năm trước đó và là mức thấp nhất kể từ 2019. Dù vậy, thị trường bất động sản yếu đi cũng là cơ hội cho các tài phiệt bất động sản Hong Kong. CK Asset và Sun Hung Kai đã trở thành hai doanh nghiệp đấu thầu tích cực nhất các lô đất thương mại và nhà ở khi các đối thủ Trung Quốc đứng ngoài và doanh nghiệp nước ngoài giảm hiện diện tại đây. Với việc nhiều diện tích văn phòng mới sắp hoàn thành trong các năm tới, dấu hiệu hồi sinh của ngành bất động sản đang tăng lên. Đầu tháng 3, Sun Hung Kai bán được hết 352 căn hộ trong một dự án mới trị giá hơn 255 triệu USD. Giá nhà cũng giảm 7% kể từ đầu năm nay, theo hãng môi giới bất động sản Centaline. Heron Lim – nhà kinh tế học tại Moody’s Analytics cho rằng các hãng bất động sản Hong Kong không vay nợ nhiều như các công ty Trung Quốc. Vì thế, khi vào giai đoạn hồi phục, \"các công ty Hong Kong có vị thế tốt hơn\". Hà Thu (theo Financial Times) '),\n",
       " ('0000007', 'https://vnexpress.net/the-ngan-hang-khong-thong-tin-la-xu-huong-4592621.html', '06', \"'Thẻ ngân hàng không thông tin là xu hướng' \", ' Theo chuyên gia Nguyễn Thanh Sơn - Chủ tịch MVV Group, thẻ không thông tin là một xu hướng giúp ngành ngân hàng, đặc biệt là những thị trường ngân hàng đang trưởng thành như Việt Nam, phát triển nhanh, góp phần dẫn dắt chuyển đổi số quốc gia. Thẻ không thông tin có thể là thẻ tín dụng hoặc ghi nợ, hoặc tích hợp cả hai. Trên thẻ sẽ chỉ hiển thị tối thiểu thông tin, thường chỉ có thương hiệu ngân hàng và đối tác cung cấp công nghệ. Thẻ không thông tin là một trong những giải pháp mà các ngân hàng ngày càng hướng tới nhắm nâng cấp trải nghiệm người dùng. Trên thế giới, nhiều ngân hàng đã ra mắt những chiếc thẻ vật lý không tên, không số. Năm 2020, ngân hàng BBVA (Tây Ban Nha) ra mắt thẻ Aqua, một dòng thẻ tín dụng không số, không CVV, không hạn sử dụng (expiry date) in trên tấm thẻ. Một năm sau đó, ngân hàng Tonik Philippines hợp tác cùng Mastercasrd, ra mắt thẻ không tên, không số, liên kết với ứng dụng di động để kiểm soát mở hoặc khóa thẻ cho giao dịch, linh hoạt hạn mức tiêu dùng và công nghệ 3D chống gian lận nâng cao. Một khảo sát vào tháng 7/2022 của which.co.uk, cho biết, 36% số người được khảo sát cho biết từng mở và nhận thẻ không số. Một trong những lý do khiến Mastercard và các ngân hàng trên thế giới đầu tư vào giải pháp không tên, không số mới là để giảm thiểu ăn cắp thông tin. Theo Internationalfinance, các vụ gian lận qua thẻ đã gây thiệt hại cho nền kinh tế toàn cầu khoảng 27,85 tỷ USD trong năm 2018, tương đương khoảng 6,86 cent cho mỗi 100 USD chi tiêu bằng thẻ. Số lượng các vụ lừa đảo liên quan đến đăng ký thẻ tín dụng tại Anh tăng 18% trong quý IV/2022, dựa trên dữ liệu từ Dịch vụ Phòng chống Lừa đảo quốc gia tại Anh. Sử dụng thẻ không số giúp người dùng giảm thiểu tối đa các rủi ro khi đánh mất thẻ. Bởi với việc không hiện thông tin trên thẻ, những giao dịch online sẽ không thực hiện được nếu người sử dụng không phải chủ thẻ. Những vấn đề như lộ thông tin thẻ khi thanh toán các dịch vụ như đặt phòng khách sạn cũng đã được loại trừ khi sử dụng giải pháp thẻ mới này. Theo Ngân hàng Santander (Mexico), việc sử dụng thẻ không tên, không số giúp cải thiện độ an toàn cho khách hàng, giảm nguy cơ gian lận đến 90% khi mua sắm trực tuyến. Ứng dụng công nghệ hiện đại như mã CVV động của thẻ BBVA cũng giúp loại trừ những rủi ro khi thanh toán trực tuyến. Thay cho việc sử dụng mã CVV tĩnh theo hình thức thông thường, mã CVV trên các thẻ không tên, không số sẽ được tích hợp trên ứng dụng di động, có thể thay đổi trong các khoảng thời gian nhất định, qua đó, giảm thiểu rủi ro sao chép hay đánh cắp dữ liệu trong các giao dịch mua hàng trực tuyến hay tại cửa hàng. Chuyên gia Nguyễn Thanh Sơn cho rằng, sự phát triển của giải pháp không hiển thị thông tin trên thẻ là điều tất yếu. Việc không ghi các thông tin nhạy cảm trên thẻ giúp giảm thiểu tối đa nguy cơ bị đánh cắp thông tin, từ đó bảo mật tốt hơn cho người dùng. Ứng dụng công nghệ cũng là cách nhiều ngân hàng số dùng để tiếp cận khách hàng. Một số ngân hàng tích hợp thẻ không tên, không số với khả năng định danh trực tuyến để ngay sau khi đăng ký và được phê duyệt, người dùng không phải chờ đợi nhận thẻ vật lý mà có thể bắt đầu sử dụng ngay. \"Những sản phẩm thẻ không thông tin không chỉ mang lại lợi ích về bảo mật mà còn giúp tiết kiệm thời gian và nâng cao trải nghiệm của người dùng khi thực hiện giao dịch thanh toán\", ông Sơn cho biết. Cũng theo chuyên gia, việc chuyển đổi từ thẻ vật lý truyền thống sang thẻ không thông tin là một bước đi quan trọng trong quá trình chuyển đổi số của ngành ngân hàng và thúc đẩy việc thanh toán không tiền mặt. Thẻ không tên không số sẽ tiếp tục phát triển mạnh trong tương lai, trở thành hướng đi mới cho ngành công nghiệp thanh toán trên toàn cầu. An Nhiên '),\n",
       " ('0000008', 'https://vnexpress.net/mb-gianh-giai-thuong-kep-tu-the-asset-4592152.html', '06', 'MB giành giải thưởng kép từ The Asset ', ' The Asset Triple A Awards do tạp chí The Asset tổ chức, nhằm vinh danh các tổ chức, tập đoàn có các sản phẩm và hoạt động ấn tượng, tạo sự đột phá trong ngành. Giải thưởng được xét duyệt dựa trên nhiều tiêu chí, được đánh giá bởi các chuyên gia quốc tế trong lĩnh vực tài chính - ngân hàng. Tại lễ trao giải năm nay, MB được vinh danh hạng mục \"Best Digital Branch Project\" (Dự án Chi nhánh ngân hàng số hóa tự động tốt nhất) và \"Best Mobile Banking Application\" (Ứng dụng ngân hàng tốt nhất). Giải thưởng \"Best Digital Branch Project\" góp phần ghi nhận bước tiến của MB trong việc mở ra hướng đi mới cho các điểm giao dịch truyền thống lấy khách hàng làm trọng tâm với mô hình ngân hàng số hóa tự động MB Smartbank. Đây là mô hình điểm giao dịch số tự phục vụ 24/7 cho khách hàng của MB, được đầu tư hệ thống công nghệ đồng nhất và kết nối toàn diện cùng App MBBank, đảm bảo giao dịch của khách hàng luôn thông suốt, bảo mật và nhanh chóng. Tại MB Smartbank, khách hàng có thể thực hiện nhiều loại giao dịch mà không cần đến các chi nhánh, phòng giao dịch như: đăng ký và in thẻ lấy ngay trong 03 phút, giao dịch không cần thẻ hoàn toàn miễn phí, đăng ký mở tài khoản số đẹp và nhiều dịch vụ khác... Mô hình này cũng cho phép khách hàng tự nộp tiền vào tài khoản. Giai đoạn 2021 - 2022, MB Smartbank đã phục vụ hơn 6 triệu lượt khách hàng giao dịch. Số lượng điểm giao dịch năm 2022 đạt 52 điểm. Nhà băng này đặt mục tiêu 70 điểm tại các thành phố lớn trên cả nước trong quý I/2023. Cũng tại lễ trao giải, MB còn vinh danh \"Best Mobile Banking Application\" với 3 nền tảng chuyên biệt: App MBBank dành cho khách hàng cá nhân, BIZ MBBank dành cho khách hàng doanh nghiệp và nền tảng app Thiện Nguyện. Năm 2022, hai nền tảng App MBBank và BIZ MBBank đã thu hút hơn 20 triệu khách hàng với các tính năng được cập nhật và cải tiến, phục vụ các nhu cầu sinh hoạt hàng ngày cho cá nhân và hỗ trợ doanh nghiệp. App MBBank tích hợp đa dạng sản phẩm dịch vụ trên một ứng dụng, trong đó, một sản phẩm ghi nhận số lượng người dùng tăng trưởng lớn như: tài khoản theo sở thích, thẻ đa năng 2 trong 1 MB Hi Collection thể hiện cá tính riêng, thanh toán VietQR, vay sản xuất kinh doanh online nhanh chóng, quản lý và đầu tư tài chính online an toàn Wealth management, mua sắm ưu đãi trên marketplace... App MBBank đã lọt top đầu ứng dụng ngân hàng yêu thích đươc tải nhiều nhất trên App Store 2021 và top 10 ứng dụng được yêu thích nhất trên App Store năm 2022. Trong khi đó, BIZ MBBank được xem là trợ thủ của khách hàng doanh nghiệp khi sở hữu hệ sinh thái dịch vụ số đa dạng, thuận tiện. Doanh nghiệp có thể thực hiện các tính năng khác như quản lý dòng tiền, quản lý chuỗi cung ứng, chuyển tiền quốc tế, mua bán ngoại tệ... online 100%, nhiều ưu đãi và không cần bản cứng chứng từ như giao dịch ngân hàng truyền thống. Nền tảng này cũng đảm bảo cho các giao dịch được thực hiện nhanh chóng, chính xác. Bên cạnh hoạt động kinh doanh, MB cũng dành nhiều sự quan tâm, phụng sự xã hội với giải pháp thiện nguyện, tích hợp ứng dụng mạng xã hội thiện nguyện và tài khoản thanh toán minh bạch. Giải pháp nhằm hỗ trợ cho tổ chức, cá nhân vận động gây quỹ và tham gia ủng hộ các hoạt động vì cộng đồng. Theo đó, tài khoản trên ứng dụng Thiện nguyện là tài khoản ngân hàng tại MB, chuyên biệt dành cho tổ chức, cá nhân vận động ủng hộ. Tài khoản có 4 số, dễ nhớ, thuận tiện cho nhà hảo tâm khi chuyển khoản. Đồng thời, sao kê được tự động công khai qua ứng dụng Thiện nguyện hoặc/và website thiennguyen.app. MB đặt mục tiêu đến năm 2025, ứng dụng Thiện nguyện sẽ trở thành mạng xã hội thiện nguyện chuyên sâu tiên phong tại Việt Nam. Tuệ Minh '),\n",
       " ('0000009', 'https://vnexpress.net/co-phieu-vietravel-thoat-dien-giao-dich-han-che-4592258.html', '06', 'Cổ phiếu Vietravel thoát diện giao dịch hạn chế ', ' Sở Giao dịch Chứng khoán Hà Nội (HNX) vừa đưa cổ phiếu VTR ra khỏi diện hạn chế do vốn chủ sở hữu trên báo cáo tài chính năm 2022 không còn âm. Đến hết 31/12, vốn chủ sở hữu của Vietravel ở mức 121 tỷ đồng. Từ giữa tháng 9 năm ngoái, cổ phiếu của đại gia ngành du lịch chỉ được giao dịch vào phiên thứ 6 hàng tuần bởi vốn chủ sở hữu âm hơn 104 tỷ đồng căn cứ theo báo cáo tài chính bán niên. Hiện tại, Vietravel có khoảng 29,3 triệu cổ phiếu được đăng ký giao dịch trên thị trường UPCoM. Vietravel thoát âm vốn chủ sở hữu nhờ sự hồi phục nhanh của ngành du lịch. Năm ngoái, công ty này đạt doanh thu 3.800 tỷ đồng, tăng gấp 4 lần so với năm 2021. Lợi nhuận gộp khoảng 306 tỷ đồng, trong khi cùng kỳ bị âm 275 tỷ đồng. Doanh nghiệp ghi nhận lãi sau thuế 104 tỷ đồng. Đầu tháng 4, Công ty cổ phần Quản lý Quỹ VinaCapital cũng hoàn tất việc mua thêm 1 triệu cổ phiếu VTR. Sau giao dịch, VinaCapital sở hữu 2,85 triệu cổ phiếu VTR, chiếm tỷ lệ 9,97% vốn tại hãng lữ hành này. Theo đại diện Vietravel, việc VinaCapital tham gia đầu tư vào sẽ tạo ra nhiều cơ hội cho công ty mở rộng nguồn vốn nhằm phục vụ hoạt động kinh doanh du lịch cũng như đa dạng hóa các lĩnh vực, ngành nghề. Hãng hàng không Vietravel Airlines - một trong những mảng kinh doanh chủ lực khác của Vietravel - cũng bớt khó khăn. 3 tháng đầu năm, hãng thực hiện gần 1.600 chuyến bay. Vietravel Airlines đã mở 2 đường bay quốc tế kết nối Bangkok với Hà Nội, TP HCM, với tỷ lệ lấp đầy trung bình trên 90%. Dự kiến trong năm nay, Vietravel Airlines tiếp tục mở rộng mạng bay cả trong và ngoài nước, tăng số đường bay thường lệ lên 13 đường bay, chuyên chở hơn 1,3 triệu hành khách. Ngoài ra, hãng cũng đã có kế hoạch tổ chức các chuyến bay thuê chuyến (charter) từ Việt Nam sang Trung Quốc và ngược lại. Anh Tú '),\n",
       " ('0000010', 'https://vnexpress.net/nha-pho-biet-thu-phia-nam-giam-gia-gan-30-4591368.html', '06', 'Nhà phố, biệt thự phía Nam giảm giá gần 30% ', ' Khảo sát của VnExpress cho thấy từ tháng 1 đến tháng 3, nhà phố, biệt thự tại dự án nhà liền thổ ở Nhơn Trạch, Biên Hòa, Đồng Nai giảm giá 15-20% do người mua ngộp tài chính bán thoát hàng, thậm chí có những trường hợp rớt giá 25-30%. Cụ thể, tại một dự án đại đô thị khu vực Biên Hòa, nhiều căn biệt thự giá 21-23 tỷ đồng được rao bán giảm 4-5 tỷ đồng một căn so với niêm yết đầu năm ngoái. Có trường hợp biệt thự đảo, view sông, giá 22 tỷ đồng, nhà đầu tư kẹt tài chính nên chào bán giảm 5,5 tỷ đồng, sụt 25% so với giá gốc. Người bán cho biết nếu trừ cả thuế, phí môi giới, lãi suất ngân hàng, mức lỗ lên đến 30%. Ông Châu, môi giới có gần chục năm chuyên địa bàn này xác nhận dù giá nhà phố biệt thự dự án giảm khá sâu, do tiến độ chậm, chủ đầu tư cũng nằm trong nhóm các doanh nghiệp bất động sản khó khăn, pháp lý vào diện bị kiểm tra, nên rất kén khách mua. Còn tại Nhơn Trạch, một dự án đại đô thị, ghi nhận các căn biệt thự vườn diện tích đất 300-400 m, kết cấu xây 1 trệt 2 lầu, có giá bán giảm 4,5-5,5 tỷ đồng một căn so với giá gốc cùng kỳ năm ngoái. Các căn biệt thự diện tích đất 400-500 m, quy mô xây dựng 1 trệt, 1 lầu, giá chào bán thứ cấp mỗi căn cũng giảm 3,5-5 tỷ đồng so với giá gốc chủ đầu tư mở bán (tức giảm giá 10-15%). Một dự án nhà liền thổ xây sẵn quy mô nhỏ hơn cũng tại Nhơn Trạch, nhà phố đã hoàn thiện, ngang 6,5 mét, dài 20 mét, được chào giá 7,78 tỷ đồng, giảm gần 15% so với đầu năm 2022. Chị Vân, môi giới có nửa thập niên bán nhà đất dự án tại Nhơn Trạch, cho biết suốt quý I, thị trường nhà liền thổ tại khu vực này trầm lắng. Cuối tháng 3, lượng giao dịch tại khu vực này giảm mạnh so với cùng kỳ năm ngoái, dù giá thoát hàng đã điều chỉnh 15-20%. Hầu hết dự án đều thanh khoản chậm do khách mua để ở không quan tâm, khách đầu tư thì hụt tài chính, lãi vay cao. Chị Vân cho hay, hồi quý I/2022, khi giá còn neo cao, chị từng chốt được 5-7 căn trong những tháng cao điểm. Nhưng 3 tháng qua, hầu như ế ẩm, mỗi tháng chị không bán được căn nào hoặc chỉ có một sản phẩm giao dịch thành công dù bên bán hạ giá nhiều. Riêng các huyện ven TP HCM như Bình Chánh, Nhà Bè và tỉnh giáp phía Nam Sài Gòn là Long An, mức giảm nhà liền thổ trên thị trường thứ cấp ghi nhận là 10%. Tuy nhiên bên bán không chấp nhận giảm thêm khi khách mua mặc cả đè xuống 15-20%, giao dịch khá trầm lắng. Báo cáo thị trường nhà liền thổ TP HCM và vùng phụ cận của DKRA Group cũng cho thấy trong quý I, nhà liền thổ phía Nam giảm trung bình 10% trên thị trường thứ cấp, nhiều trường hợp giảm giá sâu hơn. Giá nhà liền thổ sơ cấp không giảm trực tiếp nhưng chiết khấu cao cho khách mua thanh toán nhanh, song thanh khoản kém. Sức tiêu thụ nhà xây sẵn tại TP HCM và các tỉnh phụ cận chỉ chiếm 14% rổ hàng sơ cấp, tức tồn kho 85% rổ hàng chào ra thị trường. Dữ liệu thị trường của Công ty JLL Việt Nam cũng ghi nhận lượng giao dịch nhà liền thổ tại TP HCM giảm mạnh 91,7% so với quý trước và giảm 98,3% so với cùng kỳ. Quý I chỉ có 19 căn bán nhưng chủ yếu là ở dự án cũ. Hầu hết người mua và nhà đầu tư đều tạm đứng ngoài thị trường chờ đợi, giao dịch trầm lắng và khó khăn pháp lý vẫn chưa được giải quyết dứt điểm. Theo JLL, nguồn cung chịu áp lực do tâm lý thận trọng trong bối cảnh kinh tế bất ổn và các vấn đề pháp lý kéo dài. Nguồn cầu được dự báo vẫn yếu trong nửa đầu năm 2023 khi thị trường tiếp tục đối mặt những khó khăn kinh tế làm ảnh hưởng đến quyết định đầu tư nhà ở. Trước thực trạng trên, ông Võ Hồng Thắng, Phó giám đốc bộ phận R&D DKRA Group nhận định tùy từng địa phương, mức giảm không đồng đều nhưng hàng rớt giá rơi vào 3 nhóm nguyên nhân. Thứ nhất, người ôm tài sản khó khăn về dòng tiền cần thoát hàng, buộc phải hạ giá để tái cơ cấu danh mục đầu tư. Thứ hai, sản phẩm có pháp lý kém hoặc rổ hàng rơi vào khu vực đang bị thanh kiểm tra nên giá giảm mạnh. Cuối cùng, một số chủ đầu tư phát triển dự án gặp vấn đề về dòng tiền, thi công chậm tiến độ, khiến người đang ôm hàng lo ngại kịch bản xấu, mất niềm tin về triển vọng giữ giá tài sản nên tháo hàng. Phó giám đốc DKRA Group dự báo mức giảm giá nhà liền thổ vùng ven hiện ở mức khá sâu trong bối cảnh thị trường trầm lắng nhưng tâm lý của người mua vẫn chờ bắt đáy hoặc chưa có niềm tin để mua vào. Điều này dẫn đến thanh khoản 3 tháng qua thấp kỷ lục. Ông Thắng cho rằng rất khó đoán khi nào đà giảm giá ngừng lại, càng rất khó dò đáy do phụ thuộc vào quyết định cảm tính của bên bán và bên mua, song kịch bản màu xám có thể kéo dài trong những quý tới. Vũ Lê ')]"
      ]
     },
     "execution_count": 28,
     "metadata": {},
     "output_type": "execute_result"
    }
   ],
   "source": [
    "sql_scripts = \"\"\"\n",
    "select top 10 * from news\n",
    "\"\"\"\n",
    "cursor = db_connect.cursor()\n",
    "cursor.execute(sql_scripts)\n",
    "print(\"10 dòng đầu\")\n",
    "cursor.fetchall()"
   ]
  },
  {
   "attachments": {},
   "cell_type": "markdown",
   "metadata": {},
   "source": [
    "### HÀM XỬ LÍ LOẠI BỎ SỐ VÀ KÍ TỰ ĐẶC BIỆT TRONG CÁC TRƯỜNG VĂN BẢN"
   ]
  },
  {
   "cell_type": "code",
   "execution_count": 30,
   "metadata": {},
   "outputs": [],
   "source": [
    "sql_scripts = \"\"\"\n",
    "create FUNCTION UpdateVietnameseText (@input nvarchar(max))\n",
    "RETURNS nvarchar(max)\n",
    "AS\n",
    "BEGIN\n",
    "  DECLARE @output nvarchar(max)\n",
    "  SET @output = LOWER(@input);\n",
    "  WHILE PATINDEX('%[0-9]%', @output) > 0\n",
    "    BEGIN \n",
    "        SET @output = STUFF(@output, PATINDEX('%[0-9]%', @output), 1, '')\n",
    "    END\n",
    "  WHILE PATINDEX('%[^a-zA-Z ]%', @output) > 0\n",
    "    BEGIN\n",
    "        SET @output = STUFF(@output, PATINDEX('%[^a-zA-Z ]%', @output), 1, '')\n",
    "    END\n",
    "  SET @output = LTRIM(RTRIM(@output));\n",
    "  WHILE PATINDEX('%  %', @output) > 0\n",
    "    BEGIN\n",
    "        SET @output = STUFF(@output, PATINDEX('%  %', @output), 1, '')\n",
    "    END\n",
    "  RETURN @output\n",
    "END\n",
    "\"\"\"\n",
    "cursor = db_connect.cursor()\n",
    "cursor.execute(sql_scripts)\n",
    "cursor.commit()"
   ]
  },
  {
   "cell_type": "code",
   "execution_count": 32,
   "metadata": {},
   "outputs": [],
   "source": [
    "### TIỀN XỬ LÍ CỘT TITLE VÀ CONTENT TRONG BẢNG NEWS\n",
    "sql_scripts = \"\"\"\n",
    "UPDATE news\n",
    "SET title = dbo.UpdateVietnameseText(title)\n",
    "\"\"\"\n",
    "cursor = db_connect.cursor()\n",
    "cursor.execute(sql_scripts)\n",
    "cursor.commit()\n",
    "\n",
    "sql_scripts = \"\"\"\n",
    "UPDATE news\n",
    "SET content = dbo.UpdateVietnameseText(content)\n",
    "\"\"\"\n",
    "cursor = db_connect.cursor()\n",
    "cursor.execute(sql_scripts)\n",
    "cursor.commit()\n",
    "# cursor.fetchall()"
   ]
  },
  {
   "cell_type": "code",
   "execution_count": 33,
   "metadata": {},
   "outputs": [
    {
     "name": "stdout",
     "output_type": "stream",
     "text": [
      "10 dòng đầu\n"
     ]
    },
    {
     "data": {
      "text/plain": [
       "[('0000001', 'https://vnexpress.net/samsung-xac-dinh-viet-nam-la-cu-diem-san-xuat-toan-cau-4593216.html', '06', 'samsung xác định việt nam là cứ điểm sản xuất toàn cầu', 'nhận định này được ông park hark kyu tổng giám đốc phụ trách tài chính của tập đoàn samsung nêu khi gặp thủ tướng phạm minh chính chiều nay ông park đánh giá cao môi trường đầu tư kinh doanh và xác định việt nam là cứ điểm sản xuất toàn cầu hãng cũng hướng tới mục tiêu đưa việt nam thành trung tâm của các trung tâm nghiên cứu phát triển cuối năm ngoái trung tâm rd của samsung tại hà nội đã vận hành đưa ra giải pháp đào tạo nhân lực để có nhiều hơn nữa người việt tham gia đội ngũ lãnh đạo của hãng ở việt nam hiện có hơn kỹ sư đang làm việc tại trung tâm này góp phần phát triển công nghiệp nâng cao tỷ lệ nội địa hóa chuỗi cung ứng sản xuất số nhà cung cấp cấp và của việt nam trong chuỗi cung ứng toàn cầu của samsung đã tăng lần từ doanh nghiệp vào lên vào cuối năm ngoài ra ông park hark kyu đề xuất với thủ tướng một số nội dung về khuyến khích sử dụng các sản phẩm made in vietnam các vấn đề liên quan tới thuế tối thiểu toàn cầu thủ tướng phạm minh chính đánh giá cao hoạt động kinh doanh của samsung tại việt nam góp phần chuyển đổi cơ cấu kinh tế thúc đẩy xuất khẩu và tăng trưởng phát triển công nghệ hỗ trợ và tạo việc làm cho hàng triệu lao động thủ tướng cho biết chính phủ việt nam đã lập tổ công tác đặc biệt phân tích đánh giá kỹ tác động để có giải pháp phù hợp và tạo điều kiện đầu tư cạnh tranh cho các nhà đầu tư nước ngoài trong đó có samsung trên cơ sở lợi ích hài hòa rủi ro chia sẻ năm lợi nhuận của các nhà máy của samsung tại việt nam khoảng tỷ usd góp vào tổng doanh thu của tập đoàn mẹ samsung đã đầu tư tỷ usd vào việt nam và đang có kế hoạch nâng lên thành tỷ usd'),\n",
       " ('0000002', 'https://vnexpress.net/ngan-hang-quan-doi-co-chu-tich-moi-4593119.html', '06', 'ngân hàng quân đội có chủ tịch mới', 'quyết định thay đổi nhân sự cấp cao vừa được ngân hàng quân đội mb công bố đồng thời hội đồng quản trị mb cũng thông qua việc giảm số thành viên hội đồng quản trị nhiệm kỳ từ người xuống người thượng tướng lê hữu đức chủ tịch hội đồng quản trị mb được đánh giá là một tổng công trình sư của ngân hàng này ông đã dẫn dắt mb trong năm trải qua ba giai đoạn chiến lược và để lại dấu ấn đậm nét trong việc định hướng chiến lược xây dựng nền tảng quản trị và điều hành ông lưu trung thái sinh năm tốt nghiệp thạc sỹ quản trị kinh doanh đại học hawaii mỹ ông đã có năm gắn bó với mb mbs và nhiều năm liền nắm giữ các vị trí quan trọng như giám đốc chi nhánh giám đốc nhân sự phó tổng giám đốc ông thái bắt đầu tham gia hội đồng quản trị mb từ tháng và trở thành phó chủ tịch hội đồng quản trị ngân hàng từ tháng giai đoạn ông tham gia tái cấu trúc các công ty thành viên góp phần xây dựng hệ sinh thái mb thành tập đoàn tài chính đa năng đầu năm ông bắt đầu giữ vị trí ceo của nhà băng này sau khi được bổ nhiệm vào vị trí chủ tịch hội đồng quản trị mb ông thái sẽ không đảm nhận chức danh ceo ngân hàng thay vào đó ông phạm như ánh phó tổng giám đốc được giao phụ trách ban điều hành đảm nhận quyền hạn và nhiệm vụ như tổng giám đốc ông phạm như ánh sinh năm thuộc lớp lãnh đạo trẻ của mb với gần năm kinh nghiệm trong ngành tài chính ngân hàng tại mb ông ánh đã đảm nhiệm nhiều vị trí từ giám đốc chi nhánh giám đốc khối phụ trách kinh doanh khu vực phía nam đến thành viên ban điều hành các quyết định thay đổi nhân sự sẽ được hội đồng quản trị mb trình cổ đông thông qua tại phiên họp thường niên sắp tới năm mb là nhà băng cổ phần nằm trong nhóm dẫn đầu về lợi nhuận lợi nhuận trước thuế của ngân hàng này đạt hơn tỷ đồng tăng hơn cùng kỳ và chỉ đứng sau vietcombank techcombank và bidv nhà băng này ghi nhận trên triệu khách hàng trong đó chỉ riêng trong năm mb thu hút thêm triệu khách hàng số lượng giao dịch trên kênh số tăng vọt về quy mô với tỷ giao dịch gấp lần năm minh sơn'),\n",
       " ('0000003', 'https://vnexpress.net/casper-lan-dau-tan-cong-thi-truong-dien-tu-dien-lanh-cao-cap-4592672.html', '06', 'casper lần đầu tấn công thị trường điện tử điện lạnh cao cấp', 'thương hiệu nhánh cao cấp mới lacasper được casper việt nam ra mắt với sản phẩm đầu tiên là điều hoà và tv hướng đến nhóm người dùng cao cấp sản phẩm được trưng bày mẫu tại sự kiện công bố chiến lược và gặp gỡ các đại lý toàn quốc diễn ra tối điều hoà mang thương hiệu lacasper có thiết kế lấy cảm hứng từ thiên nhiên công nghệ cấp khí tươi lần đầu tiên được hãng thương mại hoá trên điều hoà dân dụng với giá bán từ triệu đồng bên cạnh đó lacasper tv oled có độ mỏng dưới cm hơn triệu điểm ảnh tự phát sáng tích hợp công nghệ hỗ trợ điều khiển giọng nói giá bán hơn triệu đồng cho phiên bản inch giới chuyên gia đánh giá đây là nước đi táo bạo của casper bởi từ trước đến nay thương hiệu này luôn nổi tiếng với tiêu chí tiết kiệm hướng đến những người dùng phổ thông tiêu biểu là dòng điều hoà tiêu thụ điện năng từ đồng một đêm lý giải việc mở rộng thị phần sang phân khúc cao cấp đại diện casper việt nam cho biết đây là chiến lược được hãng ấp ủ nhiều năm trước kỳ vọng mang đến cho người dùng sản phẩm điện máy nhiều công nghệ thiết kế sang trọng phù hợp nội thất gia đình hiện đại về mặt doanh số trong phân khúc này hãng không đặt mục tiêu cao sản phẩm điều hòa phân khúc phổ thông vẫn sẽ là chủ lực giúp hãng duy trì thị phần thứ việt nam trong năm qua casper việt nam phát triển dòng sản phẩm cao cấp không phải vì mục tiêu doanh thu mà để chứng minh củng cố vị thế trên thị trường giới thiệu thế mạnh công nghệ đột phá bên cạnh cam kết cung cấp những sản phẩm chất lượng giá cạnh tranh phục vụ mọi nhu cầu của người tiêu dùng việt đại diện hãng cho biết ngoài ưu điểm về sản phẩm thương hiệu nhánh cao cấp lacasper sở hữu loạt dịch vụ đặc quyền cho phân khúc cao cấp phục vụ lớp khách cao cấp gồm đường dây nóng vip careline miễn phí lắp đặt hỗ trợ yêu cầu dịch vụ trong tiếng bảo dưỡng miễn phí tháng lần trong năm đầu từ ngày mua hàng cung cấp sản phẩm sử dụng thay thế trong thời gian chờ bảo hành hiện dòng lacasper tv oled đã đến tay người dùng điều hoà khí tươi lacasper bán ra từ cuối tháng tủ lạnh và máy giặt lacasper dự kiến bán ra vào quý iv năm nay cũng tại sự kiện này đại diện casper việt nam đưa định hướng mục tiêu năm tiếp tục tăng trưởng thị phần mở rộng nhóm khách hàng sử dụng sản phẩm trong năm ngoái doanh thu của hãng này đạt mức tỷ đồng tăng so với chưa bao gồm vat thị phần mảng điều hoà chiếm đứng thứ toàn thị trường riêng mảng điều hoà tiêu chuẩn casper việt nam giữ vị trí số trong nước thị phần theo công bố từ hãng trong bối cảnh kinh tế suy giảm ban lãnh đạo casper việt nam chủ động hy sinh lợi nhuận để tăng cường thị phần giữ ổn định kênh phục vụ khách hàng tốt hơn đại diện công ty nói xét ở góc độ rộng hơn trong ngành casper việt nam là một trong số ít hãng tăng trưởng dương về thị phần và doanh thu trong bối cảnh suy giảm chung của ngành ngoài việc ra mắt phân nhánh cao cấp lacasper hãng điện máy thái lan tiếp tục định hướng phát triển dòng sản phẩm điều hoà cho nhóm khách phổ thông ra mắt dòng eco city inverter tiết kiệm điện cho không gian linh hoạt chi phí từ triệu đồng dòng điều hoà này có công suất btu nhãn năng lượng sao sở hữu tính năng isaving làm lạnh nhanh sau giây vận hành tĩnh lặng theo công bố từ hãng ngoài ra tính năng cảm biến nhiệt thông minh ifeel hoạt động với cơ chế cảm ứng nhiệt độ xung quanh cơ thể người dùng giúp điều khiển nhiệt độ phòng chính xác hơn không chênh lệch với nhiệt độ cài đặt dòng eco city có dải điện áp rộng v phù hợp khu vực có lưới điện chưa ổn định theo công bố từ hãng quang anh'),\n",
       " ('0000004', 'https://vnexpress.net/uy-ban-kinh-te-ban-bat-dong-san-qua-san-lam-tang-chi-phi-doi-gia-4592298.html', '06', 'uỷ ban kinh tế bán bất động sản qua sàn làm tăng chi phí đội giá', 'ngày uỷ ban thường vụ quốc hội họp phiên chuyên đề pháp luật cho ý kiến dự thảo luật kinh doanh bất động sản sửa đổi theo tờ trình trước đó chính phủ đề xuất áp dụng trở lại điều kiện bán bất động sản hình thành trong tương lai bất động sản trên giấy bắt buộc phải qua sàn giao dịch cụ thể theo điều hai loại giao dịch bất động sản phải thông qua sàn gồm chủ đầu tư bán cho thuê mua nhà ở hoặc công trình hình thành trong tương lai và chuyển nhượng cho thuê cho thuê lại đất đã có hạ tầng kỹ thuật còn các giao dịch khác được khuyến khích thông qua sàn tại báo cáo thẩm tra của uỷ ban kinh tế ngày ông vũ hồng thanh chủ nhiệm uỷ ban kinh tế cho rằng quy định tại dự thảo luật chưa làm rõ an toàn pháp lý của giao dịch bất động sản qua sàn chưa rõ trách nhiệm của sàn giao dịch khi chủ đầu tư xảy ra tranh chấp hay không thực hiện đúng cam kết chẳng hạn quy định giấy xác nhận giao dịch qua sàn tại khoản điều còn chung chung chưa rõ giá trị pháp lý hay giấy xác nhận giao dịch qua sàn là cơ sở để các chủ thể tham gia giao dịch kê khai nộp thuế cho nhà nước đăng ký biến động sang tên quyền sở hữu tài sản quyền sử dụng đất chưa thống nhất với luật đất đai các luật về thuế không có giá trị pháp lý làm căn cứ tính thuế chưa kể việc buộc giao dịch qua sàn theo uỷ ban kinh tế sẽ làm tăng trung gian chi phí và được tính vào giá giao dịch một số ý kiến phản ánh việc giao dịch qua sàn có thể làm tăng chi phí từ bên cạnh đó sàn giao dịch bất động sản không phải là công cụ quản lý nhà nước không thực hiện các dịch vụ công mà chỉ đóng vai trò là môi giới trung gian cung cấp thông tin ông thanh nêu thực tế có hiện tượng các sàn câu kết với nhau vì mục đích lợi nhuận làm nhiễu loạn thị trường không phản ánh đúng quan hệ cung cầu giá cả do đó việc bắt buộc giao dịch bất động sản qua sàn tiềm ẩn nguy cơ lợi dụng để độc quyền câu kết gây ảnh hưởng đến minh bạch thị trường và quyền lợi các bên trong kinh doanh bất động sản sàn chỉ là một trong các phương thức để giao dịch nên cho phép các bên tham gia được quyền chọn giao dịch qua sàn hoặc không qua sàn báo cáo thẩm tra của uỷ ban kinh tế nêu theo cơ quan thẩm tra với những dự án bất động sản có đầy đủ cơ sở pháp lý chủ đầu tư có đủ năng lực uy tín việc giao dịch trực tiếp không thông qua sàn giao dịch bất động sản vẫn diễn ra thuận lợi ít rủi ro cũng theo ông thanh thường trực uỷ ban kinh tế đề nghị bổ sung quy định các loại hợp đồng giữa bên người mua chủ đầu tư sàn giao dịch bất động sản với giao dịch bất động sản qua sàn nội dung hợp đồng này phải thể hiện điều khoản ràng buộc trách nhiệm của chủ đầu tư và sàn giao dịch nhằm đảm bảo quyền lợi cho người mua chính phủ cũng cần đánh giá tác động cụ thể hơn quy định về yêu cầu thanh toán hợp đồng kinh doanh bất động sản qua tài khoản mở tại ngân hàng bổ sung chế tài xử lý vi phạm để đảm bảo chặt chẽ hiệu quả tại dự thảo luật lần đầu chính phủ đưa ra một chương riêng về điều tiết thị trường bất động sản để ứng phó khi thị trường sốt nóng hoặc đóng băng ông vũ hồng thanh cho hay có hai loại ý kiến của cơ quan thẩm tra về vấn đề này thứ nhất là đề nghị cân nhắc không quy định một chương riêng về điều tiết thị trường bất động sản thay vào đó cơ quan soạn thảo nên hoàn thiện theo hướng khi thị trường biến động ảnh hưởng tới kinh tế vĩ mô bộ xây dựng cùng các cơ quan địa phương quyết định hoặc trình cấp có thẩm quyền biện pháp điều tiết bình ổn thường trực ủy ban kinh tế tán thành với ý kiến này loại ý kiến thứ hai đồng ý với dự thảo luật nhưng các quy định cần rõ ràng hơn để đảm bảo nhà nước chỉ can thiệp khi biến động của thị trường ảnh hưởng lớn đến các mục tiêu phát triển kinh tế vĩ mô về đặt cọc giao dịch nhà ở dự án nhà hình thành trong tương lai dự thảo luật nêu chủ đầu tư chỉ được nhận tiền cọc từ khách hàng khi nhà ở công trình xây dựng đủ điều kiện đưa vào kinh doanh và đã thực hiện giao dịch theo đúng quy định chủ nhiệm uỷ ban kinh tế vũ hồng thanh cho hay có ý kiến cho rằng không cần quy định riêng điều kiện đặt cọc mà thực hiện theo bộ luật dân sự cũng có người đề nghị dự thảo luật cần nêu rõ tỷ lệ đặt cọc tối đa để bảo vệ quyền lợi bên mua về bảo lãnh bán cho thuê nhà ở hình thành trong tương lai theo điều chủ đầu tư phải được ngân hàng chấp thuận cấp bảo lãnh nghĩa vụ tài chính với bên mua thuê mua nhà khi chủ đầu tư không bàn giao nhà ở theo đúng tiến độ đã cam kết trong hợp đồng đây cũng là điều kiện áp dụng từ năm đến nay một số ý kiến tại uỷ ban kinh tế cho rằng nên cân nhắc việc tiếp tục áp dụng điều kiện bảo lãnh này bởi thực tế gần năm qua bảo lãnh được tính vào hạn mức tín dụng nên các ngân hàng không đủ hạn mức để cấp cho tất cả dự án ngân hàng cũng không kiểm soát được rủi ro do chủ đầu tư thực hiện cùng lúc nhiều dự án mặt khác chi phí bảo lãnh ngân hàng được tính vào giá bán cho thuê mua nên nhiều khách hàng từ chối quyền được cấp bảo lãnh để nhận chiết khấu trực tiếp các ngân hàng chưa kiểm tra giám sát chủ đầu tư được bảo lãnh tuy vậy thường trực ủy ban kinh tế nhìn nhận vẫn cần quy định bảo lãnh này để bảo vệ bên mua thuê mua các đối tượng yếu thế trong quan hệ hợp đồng với chủ đầu tư tuy nhiên chính phủ cần làm rõ mục đích nội hàm phạm vi của bảo lãnh để ràng buộc trách nhiệm các bên bảo lãnh được bảo lãnh và nhận bảo lãnh dự kiến dự thảo luật kinh doanh bất động sản sửa đổi sẽ được trình quốc hội thảo luận cho ý kiến tại kỳ họp vào tháng tới'),\n",
       " ('0000005', 'https://vnexpress.net/chuoi-pizza-4ps-lai-vuot-giai-doan-truoc-dich-4592069.html', '06', 'chuỗi pizza ps lãi vượt giai đoạn trước dịch', 'thông tin này vừa được công ty cổ phần pizza ps công bố trên sở giao dịch chứng khoán hà nội hnx năm chuỗi nhà hàng này ghi nhận lợi nhuận sau thuế hơn tỷ đồng tăng đột biến so với mức lỗ gần tỷ đồng năm kết quả trong năm gần nhất này cũng vượt qua giai đoạn trước covid khi năm và chuỗi này chỉ báo lãi trên tỷ đồng tỷ suất lợi nhuận trên vốn chủ sở hữu của pizza ps đạt vốn chủ sở hữu của công ty tăng lên hơn tỷ đồng vào cuối năm ngoái giúp hệ số nợ phải trả trên vốn chủ sở hữu giảm từ mức lần xuống lần pizza ps được sáng lập tại việt nam bởi hai vợ chồng người nhật yosuke masuko và sanae takasugi chọn pizza làm sản phẩm chính nhưng pizza ps tự định vị mình là một chuỗi nhà hàng thay vì một cửa hàng thức ăn nhanh chuỗi này từng được mekong capital và seedcom rót vốn hiện pizza ps có nhà hàng ở tp hcm hà nội đà nẵng hải phòng bình dương nha trang và phnom penh campuchia trong đó tp hcm có hệ thống lớn nhất với nhà hàng tiếp theo là hà nội với nhà hàng riêng tại campuchia chuỗi này có hai nhà hàng tại phnom penh ngoài mô hình chuỗi pizza ps còn hoạt động trong lĩnh vực sản xuất kinh doanh phô mai và bán lẻ sản phẩm từ bơ sữa công ty cung cấp các sản phẩm này cho khoảng cửa hàng chủ yếu là khách sạn năm sao nhà hàng cao cấp và bán trực tiếp trực tuyến trong hệ thống nhà hàng pizza ps đà tăng trưởng cao của các chuỗi nhà hàng cũng là bức tranh chung khi hoạt động tiêu dùng trở lại sau hai năm bị ảnh hưởng bởi đại dịch covid tương tự pizza ps golden gate đơn vị vận hành kichi kichi gogi house manwah kpub cũng thoát lỗ và đạt lợi nhuận kỷ lục gần tỷ đồng trong năm ngoái báo cáo của ipos nền tảng cung cấp giải pháp bán hàng cho hơn thương hiệu nhà hàng và quán cà phê dẫn số liệu euromonitor cho biết quy mô doanh thu toàn ngành đạt gần tỷ đồng trong năm tăng tuy nhiên đà phục hồi bị chững lại trong quý cuối năm ngoái do ảnh hưởng chung của nền kinh tế và dự kiến còn tiếp diễn trong năm nay minh sơn'),\n",
       " ('0000006', 'https://vnexpress.net/cac-gia-dinh-giau-nhat-hong-kong-thiet-hai-vi-bat-dong-san-4592222.html', '06', 'các gia đình giàu nhất hong kong thiệt hại vì bất động sản', 'công ty này thuộc sở hữu của gia đình giàu nhất hong kong trung quốc ck asset của nhà li sun hung kai properties của nhà kwok henderson land của nhà lee và new world development của nhà cheng tính từ tháng cổ phiếu niêm yết trên sàn hong kong của các công ty này giảm khoảng tổng vốn hóa giảm từ tỷ usd xuống tỷ usd trong đó new world và henderson giảm mạnh nhất với lần lượt và đây chắc chắn là thời kỳ khó khăn hơn cả nếu so với quá khứ john burns giáo sư quản trị công tại đại học hong kong cho biết ngoài việc giá bất động sản giảm và cuộc biểu tình chống dự luật dẫn độ năm khiến kinh tế hong kong đi xuống bắc kinh hiện còn siết kiểm soát các tài phiệt vài thập kỷ qua giá bất động sản tăng đã giúp các gia đình giàu nhất hong kong mở rộng việc kinh doanh sang bán lẻ cơ sở hạ tầng và viễn thông nhưng năm qua doanh số bán nhà đã giảm giá nhà cũng giảm lợi nhuận sun hung kai và new world development xuống lần lượt và nửa cuối năm ngoái lợi nhuận henderson land mất năm ngoái ck asset công ty sáng lập bởi người giàu nhất hong kong li kashing ghi nhận lợi nhuận tăng năm ngoái bất chấp doanh thu từ bán nhà tại cả hong kong và trung quốc đại lục đi xuống nguyên nhân là bán bớt tài sản và mảng nhà hàng tại anh có lợi nhuận các hãng này còn chịu ảnh hưởng từ chính sách zero covid của trung quốc năm ngoái họ đạt tổng doanh thu tỷ usd giảm so với năm trước đó và là mức thấp nhất kể từ dù vậy thị trường bất động sản yếu đi cũng là cơ hội cho các tài phiệt bất động sản hong kong ck asset và sun hung kai đã trở thành hai doanh nghiệp đấu thầu tích cực nhất các lô đất thương mại và nhà ở khi các đối thủ trung quốc đứng ngoài và doanh nghiệp nước ngoài giảm hiện diện tại đây với việc nhiều diện tích văn phòng mới sắp hoàn thành trong các năm tới dấu hiệu hồi sinh của ngành bất động sản đang tăng lên đầu tháng sun hung kai bán được hết căn hộ trong một dự án mới trị giá hơn triệu usd giá nhà cũng giảm kể từ đầu năm nay theo hãng môi giới bất động sản centaline heron lim nhà kinh tế học tại moodys analytics cho rằng các hãng bất động sản hong kong không vay nợ nhiều như các công ty trung quốc vì thế khi vào giai đoạn hồi phục các công ty hong kong có vị thế tốt hơn hà thu theo financial times'),\n",
       " ('0000007', 'https://vnexpress.net/the-ngan-hang-khong-thong-tin-la-xu-huong-4592621.html', '06', 'thẻ ngân hàng không thông tin là xu hướng', 'theo chuyên gia nguyễn thanh sơn chủ tịch mvv group thẻ không thông tin là một xu hướng giúp ngành ngân hàng đặc biệt là những thị trường ngân hàng đang trưởng thành như việt nam phát triển nhanh góp phần dẫn dắt chuyển đổi số quốc gia thẻ không thông tin có thể là thẻ tín dụng hoặc ghi nợ hoặc tích hợp cả hai trên thẻ sẽ chỉ hiển thị tối thiểu thông tin thường chỉ có thương hiệu ngân hàng và đối tác cung cấp công nghệ thẻ không thông tin là một trong những giải pháp mà các ngân hàng ngày càng hướng tới nhắm nâng cấp trải nghiệm người dùng trên thế giới nhiều ngân hàng đã ra mắt những chiếc thẻ vật lý không tên không số năm ngân hàng bbva tây ban nha ra mắt thẻ aqua một dòng thẻ tín dụng không số không cvv không hạn sử dụng expiry date in trên tấm thẻ một năm sau đó ngân hàng tonik philippines hợp tác cùng mastercasrd ra mắt thẻ không tên không số liên kết với ứng dụng di động để kiểm soát mở hoặc khóa thẻ cho giao dịch linh hoạt hạn mức tiêu dùng và công nghệ d chống gian lận nâng cao một khảo sát vào tháng của whichcouk cho biết số người được khảo sát cho biết từng mở và nhận thẻ không số một trong những lý do khiến mastercard và các ngân hàng trên thế giới đầu tư vào giải pháp không tên không số mới là để giảm thiểu ăn cắp thông tin theo internationalfinance các vụ gian lận qua thẻ đã gây thiệt hại cho nền kinh tế toàn cầu khoảng tỷ usd trong năm tương đương khoảng cent cho mỗi usd chi tiêu bằng thẻ số lượng các vụ lừa đảo liên quan đến đăng ký thẻ tín dụng tại anh tăng trong quý iv dựa trên dữ liệu từ dịch vụ phòng chống lừa đảo quốc gia tại anh sử dụng thẻ không số giúp người dùng giảm thiểu tối đa các rủi ro khi đánh mất thẻ bởi với việc không hiện thông tin trên thẻ những giao dịch online sẽ không thực hiện được nếu người sử dụng không phải chủ thẻ những vấn đề như lộ thông tin thẻ khi thanh toán các dịch vụ như đặt phòng khách sạn cũng đã được loại trừ khi sử dụng giải pháp thẻ mới này theo ngân hàng santander mexico việc sử dụng thẻ không tên không số giúp cải thiện độ an toàn cho khách hàng giảm nguy cơ gian lận đến khi mua sắm trực tuyến ứng dụng công nghệ hiện đại như mã cvv động của thẻ bbva cũng giúp loại trừ những rủi ro khi thanh toán trực tuyến thay cho việc sử dụng mã cvv tĩnh theo hình thức thông thường mã cvv trên các thẻ không tên không số sẽ được tích hợp trên ứng dụng di động có thể thay đổi trong các khoảng thời gian nhất định qua đó giảm thiểu rủi ro sao chép hay đánh cắp dữ liệu trong các giao dịch mua hàng trực tuyến hay tại cửa hàng chuyên gia nguyễn thanh sơn cho rằng sự phát triển của giải pháp không hiển thị thông tin trên thẻ là điều tất yếu việc không ghi các thông tin nhạy cảm trên thẻ giúp giảm thiểu tối đa nguy cơ bị đánh cắp thông tin từ đó bảo mật tốt hơn cho người dùng ứng dụng công nghệ cũng là cách nhiều ngân hàng số dùng để tiếp cận khách hàng một số ngân hàng tích hợp thẻ không tên không số với khả năng định danh trực tuyến để ngay sau khi đăng ký và được phê duyệt người dùng không phải chờ đợi nhận thẻ vật lý mà có thể bắt đầu sử dụng ngay những sản phẩm thẻ không thông tin không chỉ mang lại lợi ích về bảo mật mà còn giúp tiết kiệm thời gian và nâng cao trải nghiệm của người dùng khi thực hiện giao dịch thanh toán ông sơn cho biết cũng theo chuyên gia việc chuyển đổi từ thẻ vật lý truyền thống sang thẻ không thông tin là một bước đi quan trọng trong quá trình chuyển đổi số của ngành ngân hàng và thúc đẩy việc thanh toán không tiền mặt thẻ không tên không số sẽ tiếp tục phát triển mạnh trong tương lai trở thành hướng đi mới cho ngành công nghiệp thanh toán trên toàn cầu an nhiên'),\n",
       " ('0000008', 'https://vnexpress.net/mb-gianh-giai-thuong-kep-tu-the-asset-4592152.html', '06', 'mb giành giải thưởng kép từ the asset', 'the asset triple a awards do tạp chí the asset tổ chức nhằm vinh danh các tổ chức tập đoàn có các sản phẩm và hoạt động ấn tượng tạo sự đột phá trong ngành giải thưởng được xét duyệt dựa trên nhiều tiêu chí được đánh giá bởi các chuyên gia quốc tế trong lĩnh vực tài chính ngân hàng tại lễ trao giải năm nay mb được vinh danh hạng mục best digital branch project dự án chi nhánh ngân hàng số hóa tự động tốt nhất và best mobile banking application ứng dụng ngân hàng tốt nhất giải thưởng best digital branch project góp phần ghi nhận bước tiến của mb trong việc mở ra hướng đi mới cho các điểm giao dịch truyền thống lấy khách hàng làm trọng tâm với mô hình ngân hàng số hóa tự động mb smartbank đây là mô hình điểm giao dịch số tự phục vụ cho khách hàng của mb được đầu tư hệ thống công nghệ đồng nhất và kết nối toàn diện cùng app mbbank đảm bảo giao dịch của khách hàng luôn thông suốt bảo mật và nhanh chóng tại mb smartbank khách hàng có thể thực hiện nhiều loại giao dịch mà không cần đến các chi nhánh phòng giao dịch như đăng ký và in thẻ lấy ngay trong phút giao dịch không cần thẻ hoàn toàn miễn phí đăng ký mở tài khoản số đẹp và nhiều dịch vụ khác mô hình này cũng cho phép khách hàng tự nộp tiền vào tài khoản giai đoạn mb smartbank đã phục vụ hơn triệu lượt khách hàng giao dịch số lượng điểm giao dịch năm đạt điểm nhà băng này đặt mục tiêu điểm tại các thành phố lớn trên cả nước trong quý i cũng tại lễ trao giải mb còn vinh danh best mobile banking application với nền tảng chuyên biệt app mbbank dành cho khách hàng cá nhân biz mbbank dành cho khách hàng doanh nghiệp và nền tảng app thiện nguyện năm hai nền tảng app mbbank và biz mbbank đã thu hút hơn triệu khách hàng với các tính năng được cập nhật và cải tiến phục vụ các nhu cầu sinh hoạt hàng ngày cho cá nhân và hỗ trợ doanh nghiệp app mbbank tích hợp đa dạng sản phẩm dịch vụ trên một ứng dụng trong đó một sản phẩm ghi nhận số lượng người dùng tăng trưởng lớn như tài khoản theo sở thích thẻ đa năng trong mb hi collection thể hiện cá tính riêng thanh toán vietqr vay sản xuất kinh doanh online nhanh chóng quản lý và đầu tư tài chính online an toàn wealth management mua sắm ưu đãi trên marketplace app mbbank đã lọt top đầu ứng dụng ngân hàng yêu thích đươc tải nhiều nhất trên app store và top ứng dụng được yêu thích nhất trên app store năm trong khi đó biz mbbank được xem là trợ thủ của khách hàng doanh nghiệp khi sở hữu hệ sinh thái dịch vụ số đa dạng thuận tiện doanh nghiệp có thể thực hiện các tính năng khác như quản lý dòng tiền quản lý chuỗi cung ứng chuyển tiền quốc tế mua bán ngoại tệ online nhiều ưu đãi và không cần bản cứng chứng từ như giao dịch ngân hàng truyền thống nền tảng này cũng đảm bảo cho các giao dịch được thực hiện nhanh chóng chính xác bên cạnh hoạt động kinh doanh mb cũng dành nhiều sự quan tâm phụng sự xã hội với giải pháp thiện nguyện tích hợp ứng dụng mạng xã hội thiện nguyện và tài khoản thanh toán minh bạch giải pháp nhằm hỗ trợ cho tổ chức cá nhân vận động gây quỹ và tham gia ủng hộ các hoạt động vì cộng đồng theo đó tài khoản trên ứng dụng thiện nguyện là tài khoản ngân hàng tại mb chuyên biệt dành cho tổ chức cá nhân vận động ủng hộ tài khoản có số dễ nhớ thuận tiện cho nhà hảo tâm khi chuyển khoản đồng thời sao kê được tự động công khai qua ứng dụng thiện nguyện hoặcvà website thiennguyenapp mb đặt mục tiêu đến năm ứng dụng thiện nguyện sẽ trở thành mạng xã hội thiện nguyện chuyên sâu tiên phong tại việt nam tuệ minh'),\n",
       " ('0000009', 'https://vnexpress.net/co-phieu-vietravel-thoat-dien-giao-dich-han-che-4592258.html', '06', 'cổ phiếu vietravel thoát diện giao dịch hạn chế', 'sở giao dịch chứng khoán hà nội hnx vừa đưa cổ phiếu vtr ra khỏi diện hạn chế do vốn chủ sở hữu trên báo cáo tài chính năm không còn âm đến hết vốn chủ sở hữu của vietravel ở mức tỷ đồng từ giữa tháng năm ngoái cổ phiếu của đại gia ngành du lịch chỉ được giao dịch vào phiên thứ hàng tuần bởi vốn chủ sở hữu âm hơn tỷ đồng căn cứ theo báo cáo tài chính bán niên hiện tại vietravel có khoảng triệu cổ phiếu được đăng ký giao dịch trên thị trường upcom vietravel thoát âm vốn chủ sở hữu nhờ sự hồi phục nhanh của ngành du lịch năm ngoái công ty này đạt doanh thu tỷ đồng tăng gấp lần so với năm lợi nhuận gộp khoảng tỷ đồng trong khi cùng kỳ bị âm tỷ đồng doanh nghiệp ghi nhận lãi sau thuế tỷ đồng đầu tháng công ty cổ phần quản lý quỹ vinacapital cũng hoàn tất việc mua thêm triệu cổ phiếu vtr sau giao dịch vinacapital sở hữu triệu cổ phiếu vtr chiếm tỷ lệ vốn tại hãng lữ hành này theo đại diện vietravel việc vinacapital tham gia đầu tư vào sẽ tạo ra nhiều cơ hội cho công ty mở rộng nguồn vốn nhằm phục vụ hoạt động kinh doanh du lịch cũng như đa dạng hóa các lĩnh vực ngành nghề hãng hàng không vietravel airlines một trong những mảng kinh doanh chủ lực khác của vietravel cũng bớt khó khăn tháng đầu năm hãng thực hiện gần chuyến bay vietravel airlines đã mở đường bay quốc tế kết nối bangkok với hà nội tp hcm với tỷ lệ lấp đầy trung bình trên dự kiến trong năm nay vietravel airlines tiếp tục mở rộng mạng bay cả trong và ngoài nước tăng số đường bay thường lệ lên đường bay chuyên chở hơn triệu hành khách ngoài ra hãng cũng đã có kế hoạch tổ chức các chuyến bay thuê chuyến charter từ việt nam sang trung quốc và ngược lại anh tú'),\n",
       " ('0000010', 'https://vnexpress.net/nha-pho-biet-thu-phia-nam-giam-gia-gan-30-4591368.html', '06', 'nhà phố biệt thự phía nam giảm giá gần', 'khảo sát của vnexpress cho thấy từ tháng đến tháng nhà phố biệt thự tại dự án nhà liền thổ ở nhơn trạch biên hòa đồng nai giảm giá do người mua ngộp tài chính bán thoát hàng thậm chí có những trường hợp rớt giá cụ thể tại một dự án đại đô thị khu vực biên hòa nhiều căn biệt thự giá tỷ đồng được rao bán giảm tỷ đồng một căn so với niêm yết đầu năm ngoái có trường hợp biệt thự đảo view sông giá tỷ đồng nhà đầu tư kẹt tài chính nên chào bán giảm tỷ đồng sụt so với giá gốc người bán cho biết nếu trừ cả thuế phí môi giới lãi suất ngân hàng mức lỗ lên đến ông châu môi giới có gần chục năm chuyên địa bàn này xác nhận dù giá nhà phố biệt thự dự án giảm khá sâu do tiến độ chậm chủ đầu tư cũng nằm trong nhóm các doanh nghiệp bất động sản khó khăn pháp lý vào diện bị kiểm tra nên rất kén khách mua còn tại nhơn trạch một dự án đại đô thị ghi nhận các căn biệt thự vườn diện tích đất m kết cấu xây trệt lầu có giá bán giảm tỷ đồng một căn so với giá gốc cùng kỳ năm ngoái các căn biệt thự diện tích đất m quy mô xây dựng trệt lầu giá chào bán thứ cấp mỗi căn cũng giảm tỷ đồng so với giá gốc chủ đầu tư mở bán tức giảm giá một dự án nhà liền thổ xây sẵn quy mô nhỏ hơn cũng tại nhơn trạch nhà phố đã hoàn thiện ngang mét dài mét được chào giá tỷ đồng giảm gần so với đầu năm chị vân môi giới có nửa thập niên bán nhà đất dự án tại nhơn trạch cho biết suốt quý i thị trường nhà liền thổ tại khu vực này trầm lắng cuối tháng lượng giao dịch tại khu vực này giảm mạnh so với cùng kỳ năm ngoái dù giá thoát hàng đã điều chỉnh hầu hết dự án đều thanh khoản chậm do khách mua để ở không quan tâm khách đầu tư thì hụt tài chính lãi vay cao chị vân cho hay hồi quý i khi giá còn neo cao chị từng chốt được căn trong những tháng cao điểm nhưng tháng qua hầu như ế ẩm mỗi tháng chị không bán được căn nào hoặc chỉ có một sản phẩm giao dịch thành công dù bên bán hạ giá nhiều riêng các huyện ven tp hcm như bình chánh nhà bè và tỉnh giáp phía nam sài gòn là long an mức giảm nhà liền thổ trên thị trường thứ cấp ghi nhận là tuy nhiên bên bán không chấp nhận giảm thêm khi khách mua mặc cả đè xuống giao dịch khá trầm lắng báo cáo thị trường nhà liền thổ tp hcm và vùng phụ cận của dkra group cũng cho thấy trong quý i nhà liền thổ phía nam giảm trung bình trên thị trường thứ cấp nhiều trường hợp giảm giá sâu hơn giá nhà liền thổ sơ cấp không giảm trực tiếp nhưng chiết khấu cao cho khách mua thanh toán nhanh song thanh khoản kém sức tiêu thụ nhà xây sẵn tại tp hcm và các tỉnh phụ cận chỉ chiếm rổ hàng sơ cấp tức tồn kho rổ hàng chào ra thị trường dữ liệu thị trường của công ty jll việt nam cũng ghi nhận lượng giao dịch nhà liền thổ tại tp hcm giảm mạnh so với quý trước và giảm so với cùng kỳ quý i chỉ có căn bán nhưng chủ yếu là ở dự án cũ hầu hết người mua và nhà đầu tư đều tạm đứng ngoài thị trường chờ đợi giao dịch trầm lắng và khó khăn pháp lý vẫn chưa được giải quyết dứt điểm theo jll nguồn cung chịu áp lực do tâm lý thận trọng trong bối cảnh kinh tế bất ổn và các vấn đề pháp lý kéo dài nguồn cầu được dự báo vẫn yếu trong nửa đầu năm khi thị trường tiếp tục đối mặt những khó khăn kinh tế làm ảnh hưởng đến quyết định đầu tư nhà ở trước thực trạng trên ông võ hồng thắng phó giám đốc bộ phận rd dkra group nhận định tùy từng địa phương mức giảm không đồng đều nhưng hàng rớt giá rơi vào nhóm nguyên nhân thứ nhất người ôm tài sản khó khăn về dòng tiền cần thoát hàng buộc phải hạ giá để tái cơ cấu danh mục đầu tư thứ hai sản phẩm có pháp lý kém hoặc rổ hàng rơi vào khu vực đang bị thanh kiểm tra nên giá giảm mạnh cuối cùng một số chủ đầu tư phát triển dự án gặp vấn đề về dòng tiền thi công chậm tiến độ khiến người đang ôm hàng lo ngại kịch bản xấu mất niềm tin về triển vọng giữ giá tài sản nên tháo hàng phó giám đốc dkra group dự báo mức giảm giá nhà liền thổ vùng ven hiện ở mức khá sâu trong bối cảnh thị trường trầm lắng nhưng tâm lý của người mua vẫn chờ bắt đáy hoặc chưa có niềm tin để mua vào điều này dẫn đến thanh khoản tháng qua thấp kỷ lục ông thắng cho rằng rất khó đoán khi nào đà giảm giá ngừng lại càng rất khó dò đáy do phụ thuộc vào quyết định cảm tính của bên bán và bên mua song kịch bản màu xám có thể kéo dài trong những quý tới vũ lê')]"
      ]
     },
     "execution_count": 33,
     "metadata": {},
     "output_type": "execute_result"
    }
   ],
   "source": [
    "sql_scripts = \"\"\"\n",
    "select top 10 * from news\n",
    "\"\"\"\n",
    "cursor = db_connect.cursor()\n",
    "cursor.execute(sql_scripts)\n",
    "print(\"10 dòng đầu\")\n",
    "cursor.fetchall()"
   ]
  }
 ],
 "metadata": {
  "kernelspec": {
   "display_name": "api_env",
   "language": "python",
   "name": "python3"
  },
  "language_info": {
   "codemirror_mode": {
    "name": "ipython",
    "version": 3
   },
   "file_extension": ".py",
   "mimetype": "text/x-python",
   "name": "python",
   "nbconvert_exporter": "python",
   "pygments_lexer": "ipython3",
   "version": "3.10.6"
  },
  "orig_nbformat": 4
 },
 "nbformat": 4,
 "nbformat_minor": 2
}
